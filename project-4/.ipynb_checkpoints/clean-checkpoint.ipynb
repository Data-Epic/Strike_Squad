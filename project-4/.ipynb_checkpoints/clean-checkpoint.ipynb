{
 "cells": [
  {
   "cell_type": "code",
   "execution_count": 1,
   "metadata": {},
   "outputs": [],
   "source": [
    "# dependencies\n",
    "import pandas as pd\n",
    "import numpy as np\n",
    "\n",
    "pd.pandas.set_option('display.max_columns',None)"
   ]
  },
  {
   "cell_type": "code",
   "execution_count": 2,
   "metadata": {},
   "outputs": [],
   "source": [
    "# variables\n",
    "ARTWORKS_DATA_PATH=\"data/Artworks.csv\""
   ]
  },
  {
   "cell_type": "code",
   "execution_count": 3,
   "metadata": {},
   "outputs": [
    {
     "ename": "FileNotFoundError",
     "evalue": "[Errno 2] No such file or directory: 'data/Artworks.csv'",
     "output_type": "error",
     "traceback": [
      "\u001b[0;31m---------------------------------------------------------------------------\u001b[0m",
      "\u001b[0;31mFileNotFoundError\u001b[0m                         Traceback (most recent call last)",
      "Cell \u001b[0;32mIn[3], line 2\u001b[0m\n\u001b[1;32m      1\u001b[0m \u001b[38;5;66;03m# read dataset\u001b[39;00m\n\u001b[0;32m----> 2\u001b[0m data \u001b[38;5;241m=\u001b[39m pd\u001b[38;5;241m.\u001b[39mread_csv(ARTWORKS_DATA_PATH, delimiter\u001b[38;5;241m=\u001b[39m\u001b[38;5;124m\"\u001b[39m\u001b[38;5;124m,\u001b[39m\u001b[38;5;124m\"\u001b[39m)\n",
      "File \u001b[0;32m~/anaconda3/lib/python3.11/site-packages/pandas/util/_decorators.py:211\u001b[0m, in \u001b[0;36mdeprecate_kwarg.<locals>._deprecate_kwarg.<locals>.wrapper\u001b[0;34m(*args, **kwargs)\u001b[0m\n\u001b[1;32m    209\u001b[0m     \u001b[38;5;28;01melse\u001b[39;00m:\n\u001b[1;32m    210\u001b[0m         kwargs[new_arg_name] \u001b[38;5;241m=\u001b[39m new_arg_value\n\u001b[0;32m--> 211\u001b[0m \u001b[38;5;28;01mreturn\u001b[39;00m func(\u001b[38;5;241m*\u001b[39margs, \u001b[38;5;241m*\u001b[39m\u001b[38;5;241m*\u001b[39mkwargs)\n",
      "File \u001b[0;32m~/anaconda3/lib/python3.11/site-packages/pandas/util/_decorators.py:331\u001b[0m, in \u001b[0;36mdeprecate_nonkeyword_arguments.<locals>.decorate.<locals>.wrapper\u001b[0;34m(*args, **kwargs)\u001b[0m\n\u001b[1;32m    325\u001b[0m \u001b[38;5;28;01mif\u001b[39;00m \u001b[38;5;28mlen\u001b[39m(args) \u001b[38;5;241m>\u001b[39m num_allow_args:\n\u001b[1;32m    326\u001b[0m     warnings\u001b[38;5;241m.\u001b[39mwarn(\n\u001b[1;32m    327\u001b[0m         msg\u001b[38;5;241m.\u001b[39mformat(arguments\u001b[38;5;241m=\u001b[39m_format_argument_list(allow_args)),\n\u001b[1;32m    328\u001b[0m         \u001b[38;5;167;01mFutureWarning\u001b[39;00m,\n\u001b[1;32m    329\u001b[0m         stacklevel\u001b[38;5;241m=\u001b[39mfind_stack_level(),\n\u001b[1;32m    330\u001b[0m     )\n\u001b[0;32m--> 331\u001b[0m \u001b[38;5;28;01mreturn\u001b[39;00m func(\u001b[38;5;241m*\u001b[39margs, \u001b[38;5;241m*\u001b[39m\u001b[38;5;241m*\u001b[39mkwargs)\n",
      "File \u001b[0;32m~/anaconda3/lib/python3.11/site-packages/pandas/io/parsers/readers.py:950\u001b[0m, in \u001b[0;36mread_csv\u001b[0;34m(filepath_or_buffer, sep, delimiter, header, names, index_col, usecols, squeeze, prefix, mangle_dupe_cols, dtype, engine, converters, true_values, false_values, skipinitialspace, skiprows, skipfooter, nrows, na_values, keep_default_na, na_filter, verbose, skip_blank_lines, parse_dates, infer_datetime_format, keep_date_col, date_parser, dayfirst, cache_dates, iterator, chunksize, compression, thousands, decimal, lineterminator, quotechar, quoting, doublequote, escapechar, comment, encoding, encoding_errors, dialect, error_bad_lines, warn_bad_lines, on_bad_lines, delim_whitespace, low_memory, memory_map, float_precision, storage_options)\u001b[0m\n\u001b[1;32m    935\u001b[0m kwds_defaults \u001b[38;5;241m=\u001b[39m _refine_defaults_read(\n\u001b[1;32m    936\u001b[0m     dialect,\n\u001b[1;32m    937\u001b[0m     delimiter,\n\u001b[0;32m   (...)\u001b[0m\n\u001b[1;32m    946\u001b[0m     defaults\u001b[38;5;241m=\u001b[39m{\u001b[38;5;124m\"\u001b[39m\u001b[38;5;124mdelimiter\u001b[39m\u001b[38;5;124m\"\u001b[39m: \u001b[38;5;124m\"\u001b[39m\u001b[38;5;124m,\u001b[39m\u001b[38;5;124m\"\u001b[39m},\n\u001b[1;32m    947\u001b[0m )\n\u001b[1;32m    948\u001b[0m kwds\u001b[38;5;241m.\u001b[39mupdate(kwds_defaults)\n\u001b[0;32m--> 950\u001b[0m \u001b[38;5;28;01mreturn\u001b[39;00m _read(filepath_or_buffer, kwds)\n",
      "File \u001b[0;32m~/anaconda3/lib/python3.11/site-packages/pandas/io/parsers/readers.py:605\u001b[0m, in \u001b[0;36m_read\u001b[0;34m(filepath_or_buffer, kwds)\u001b[0m\n\u001b[1;32m    602\u001b[0m _validate_names(kwds\u001b[38;5;241m.\u001b[39mget(\u001b[38;5;124m\"\u001b[39m\u001b[38;5;124mnames\u001b[39m\u001b[38;5;124m\"\u001b[39m, \u001b[38;5;28;01mNone\u001b[39;00m))\n\u001b[1;32m    604\u001b[0m \u001b[38;5;66;03m# Create the parser.\u001b[39;00m\n\u001b[0;32m--> 605\u001b[0m parser \u001b[38;5;241m=\u001b[39m TextFileReader(filepath_or_buffer, \u001b[38;5;241m*\u001b[39m\u001b[38;5;241m*\u001b[39mkwds)\n\u001b[1;32m    607\u001b[0m \u001b[38;5;28;01mif\u001b[39;00m chunksize \u001b[38;5;129;01mor\u001b[39;00m iterator:\n\u001b[1;32m    608\u001b[0m     \u001b[38;5;28;01mreturn\u001b[39;00m parser\n",
      "File \u001b[0;32m~/anaconda3/lib/python3.11/site-packages/pandas/io/parsers/readers.py:1442\u001b[0m, in \u001b[0;36mTextFileReader.__init__\u001b[0;34m(self, f, engine, **kwds)\u001b[0m\n\u001b[1;32m   1439\u001b[0m     \u001b[38;5;28mself\u001b[39m\u001b[38;5;241m.\u001b[39moptions[\u001b[38;5;124m\"\u001b[39m\u001b[38;5;124mhas_index_names\u001b[39m\u001b[38;5;124m\"\u001b[39m] \u001b[38;5;241m=\u001b[39m kwds[\u001b[38;5;124m\"\u001b[39m\u001b[38;5;124mhas_index_names\u001b[39m\u001b[38;5;124m\"\u001b[39m]\n\u001b[1;32m   1441\u001b[0m \u001b[38;5;28mself\u001b[39m\u001b[38;5;241m.\u001b[39mhandles: IOHandles \u001b[38;5;241m|\u001b[39m \u001b[38;5;28;01mNone\u001b[39;00m \u001b[38;5;241m=\u001b[39m \u001b[38;5;28;01mNone\u001b[39;00m\n\u001b[0;32m-> 1442\u001b[0m \u001b[38;5;28mself\u001b[39m\u001b[38;5;241m.\u001b[39m_engine \u001b[38;5;241m=\u001b[39m \u001b[38;5;28mself\u001b[39m\u001b[38;5;241m.\u001b[39m_make_engine(f, \u001b[38;5;28mself\u001b[39m\u001b[38;5;241m.\u001b[39mengine)\n",
      "File \u001b[0;32m~/anaconda3/lib/python3.11/site-packages/pandas/io/parsers/readers.py:1735\u001b[0m, in \u001b[0;36mTextFileReader._make_engine\u001b[0;34m(self, f, engine)\u001b[0m\n\u001b[1;32m   1733\u001b[0m     \u001b[38;5;28;01mif\u001b[39;00m \u001b[38;5;124m\"\u001b[39m\u001b[38;5;124mb\u001b[39m\u001b[38;5;124m\"\u001b[39m \u001b[38;5;129;01mnot\u001b[39;00m \u001b[38;5;129;01min\u001b[39;00m mode:\n\u001b[1;32m   1734\u001b[0m         mode \u001b[38;5;241m+\u001b[39m\u001b[38;5;241m=\u001b[39m \u001b[38;5;124m\"\u001b[39m\u001b[38;5;124mb\u001b[39m\u001b[38;5;124m\"\u001b[39m\n\u001b[0;32m-> 1735\u001b[0m \u001b[38;5;28mself\u001b[39m\u001b[38;5;241m.\u001b[39mhandles \u001b[38;5;241m=\u001b[39m get_handle(\n\u001b[1;32m   1736\u001b[0m     f,\n\u001b[1;32m   1737\u001b[0m     mode,\n\u001b[1;32m   1738\u001b[0m     encoding\u001b[38;5;241m=\u001b[39m\u001b[38;5;28mself\u001b[39m\u001b[38;5;241m.\u001b[39moptions\u001b[38;5;241m.\u001b[39mget(\u001b[38;5;124m\"\u001b[39m\u001b[38;5;124mencoding\u001b[39m\u001b[38;5;124m\"\u001b[39m, \u001b[38;5;28;01mNone\u001b[39;00m),\n\u001b[1;32m   1739\u001b[0m     compression\u001b[38;5;241m=\u001b[39m\u001b[38;5;28mself\u001b[39m\u001b[38;5;241m.\u001b[39moptions\u001b[38;5;241m.\u001b[39mget(\u001b[38;5;124m\"\u001b[39m\u001b[38;5;124mcompression\u001b[39m\u001b[38;5;124m\"\u001b[39m, \u001b[38;5;28;01mNone\u001b[39;00m),\n\u001b[1;32m   1740\u001b[0m     memory_map\u001b[38;5;241m=\u001b[39m\u001b[38;5;28mself\u001b[39m\u001b[38;5;241m.\u001b[39moptions\u001b[38;5;241m.\u001b[39mget(\u001b[38;5;124m\"\u001b[39m\u001b[38;5;124mmemory_map\u001b[39m\u001b[38;5;124m\"\u001b[39m, \u001b[38;5;28;01mFalse\u001b[39;00m),\n\u001b[1;32m   1741\u001b[0m     is_text\u001b[38;5;241m=\u001b[39mis_text,\n\u001b[1;32m   1742\u001b[0m     errors\u001b[38;5;241m=\u001b[39m\u001b[38;5;28mself\u001b[39m\u001b[38;5;241m.\u001b[39moptions\u001b[38;5;241m.\u001b[39mget(\u001b[38;5;124m\"\u001b[39m\u001b[38;5;124mencoding_errors\u001b[39m\u001b[38;5;124m\"\u001b[39m, \u001b[38;5;124m\"\u001b[39m\u001b[38;5;124mstrict\u001b[39m\u001b[38;5;124m\"\u001b[39m),\n\u001b[1;32m   1743\u001b[0m     storage_options\u001b[38;5;241m=\u001b[39m\u001b[38;5;28mself\u001b[39m\u001b[38;5;241m.\u001b[39moptions\u001b[38;5;241m.\u001b[39mget(\u001b[38;5;124m\"\u001b[39m\u001b[38;5;124mstorage_options\u001b[39m\u001b[38;5;124m\"\u001b[39m, \u001b[38;5;28;01mNone\u001b[39;00m),\n\u001b[1;32m   1744\u001b[0m )\n\u001b[1;32m   1745\u001b[0m \u001b[38;5;28;01massert\u001b[39;00m \u001b[38;5;28mself\u001b[39m\u001b[38;5;241m.\u001b[39mhandles \u001b[38;5;129;01mis\u001b[39;00m \u001b[38;5;129;01mnot\u001b[39;00m \u001b[38;5;28;01mNone\u001b[39;00m\n\u001b[1;32m   1746\u001b[0m f \u001b[38;5;241m=\u001b[39m \u001b[38;5;28mself\u001b[39m\u001b[38;5;241m.\u001b[39mhandles\u001b[38;5;241m.\u001b[39mhandle\n",
      "File \u001b[0;32m~/anaconda3/lib/python3.11/site-packages/pandas/io/common.py:856\u001b[0m, in \u001b[0;36mget_handle\u001b[0;34m(path_or_buf, mode, encoding, compression, memory_map, is_text, errors, storage_options)\u001b[0m\n\u001b[1;32m    851\u001b[0m \u001b[38;5;28;01melif\u001b[39;00m \u001b[38;5;28misinstance\u001b[39m(handle, \u001b[38;5;28mstr\u001b[39m):\n\u001b[1;32m    852\u001b[0m     \u001b[38;5;66;03m# Check whether the filename is to be opened in binary mode.\u001b[39;00m\n\u001b[1;32m    853\u001b[0m     \u001b[38;5;66;03m# Binary mode does not support 'encoding' and 'newline'.\u001b[39;00m\n\u001b[1;32m    854\u001b[0m     \u001b[38;5;28;01mif\u001b[39;00m ioargs\u001b[38;5;241m.\u001b[39mencoding \u001b[38;5;129;01mand\u001b[39;00m \u001b[38;5;124m\"\u001b[39m\u001b[38;5;124mb\u001b[39m\u001b[38;5;124m\"\u001b[39m \u001b[38;5;129;01mnot\u001b[39;00m \u001b[38;5;129;01min\u001b[39;00m ioargs\u001b[38;5;241m.\u001b[39mmode:\n\u001b[1;32m    855\u001b[0m         \u001b[38;5;66;03m# Encoding\u001b[39;00m\n\u001b[0;32m--> 856\u001b[0m         handle \u001b[38;5;241m=\u001b[39m \u001b[38;5;28mopen\u001b[39m(\n\u001b[1;32m    857\u001b[0m             handle,\n\u001b[1;32m    858\u001b[0m             ioargs\u001b[38;5;241m.\u001b[39mmode,\n\u001b[1;32m    859\u001b[0m             encoding\u001b[38;5;241m=\u001b[39mioargs\u001b[38;5;241m.\u001b[39mencoding,\n\u001b[1;32m    860\u001b[0m             errors\u001b[38;5;241m=\u001b[39merrors,\n\u001b[1;32m    861\u001b[0m             newline\u001b[38;5;241m=\u001b[39m\u001b[38;5;124m\"\u001b[39m\u001b[38;5;124m\"\u001b[39m,\n\u001b[1;32m    862\u001b[0m         )\n\u001b[1;32m    863\u001b[0m     \u001b[38;5;28;01melse\u001b[39;00m:\n\u001b[1;32m    864\u001b[0m         \u001b[38;5;66;03m# Binary mode\u001b[39;00m\n\u001b[1;32m    865\u001b[0m         handle \u001b[38;5;241m=\u001b[39m \u001b[38;5;28mopen\u001b[39m(handle, ioargs\u001b[38;5;241m.\u001b[39mmode)\n",
      "\u001b[0;31mFileNotFoundError\u001b[0m: [Errno 2] No such file or directory: 'data/Artworks.csv'"
     ]
    }
   ],
   "source": [
    "# read dataset\n",
    "data = pd.read_csv(ARTWORKS_DATA_PATH, delimiter=\",\")"
   ]
  },
  {
   "cell_type": "code",
   "execution_count": null,
   "metadata": {},
   "outputs": [],
   "source": [
    "df = data.copy()\n",
    "df.head(3)"
   ]
  },
  {
   "cell_type": "code",
   "execution_count": null,
   "metadata": {},
   "outputs": [],
   "source": [
    "df.info()"
   ]
  },
  {
   "cell_type": "markdown",
   "metadata": {},
   "source": [
    "### Workflow\n",
    "\n",
    "-Fromat columns & remove redudndant `()`\n",
    "      - `ArtistBio`\n",
    "      - `Nationality`\n",
    "      - `BeginDate`\n",
    "      - `EndDate`\n",
    "      - `Gender`\n",
    "\n",
    "\n",
    "- split `Title` column to get only Relevant title\n",
    "\n",
    "- Drop `Dimensions` column   \n",
    "  - There are `lenth` and `width` columns with the same data already \n",
    "  - Resolve to use cm as a central metric for measurement\n",
    "\n",
    "\n",
    "- handle missning/Null values\n",
    "\n",
    "- Infer data-types\n",
    "\n",
    "- Save as `parquet` file to retain infered data types\n"
   ]
  },
  {
   "cell_type": "code",
   "execution_count": null,
   "metadata": {},
   "outputs": [],
   "source": [
    "# format columns with redudant brackets\n",
    "columns_w_redundant_brackets=[\"ArtistBio\",\"Nationality\",\"BeginDate\",\"EndDate\",\"Gender\"]\n",
    "\n",
    "for column in columns_w_redundant_brackets:\n",
    "    df[column] = df[column].str.replace(r'\\(|\\)', '', regex=True)"
   ]
  },
  {
   "cell_type": "code",
   "execution_count": null,
   "metadata": {},
   "outputs": [],
   "source": [
    "# split ArtistBio column to use only relevant info (Nationalty data only)\n",
    "df['ArtistBio'] = df['ArtistBio'].str.split(',').str[0].str.strip()\n",
    "\n",
    "# split Title column to use only relevant Title info\n",
    "# df['Title'] = df['Title'].str.split(',').str[0].str.strip()"
   ]
  },
  {
   "cell_type": "markdown",
   "metadata": {},
   "source": [
    "- values in ArtistBio seem to exist already in `Nationality`, `BeginDate` & `EndDate` columns\n",
    "- ArtistBio\t& Nationality seem to have similar info. could be used to fill in missing values"
   ]
  },
  {
   "cell_type": "code",
   "execution_count": null,
   "metadata": {},
   "outputs": [],
   "source": [
    "# Drop Dimesions column since `lenth` and `width` columns with the same data already \n",
    "df = df.drop('Dimensions', axis=1)"
   ]
  },
  {
   "cell_type": "code",
   "execution_count": null,
   "metadata": {},
   "outputs": [],
   "source": [
    "# function to find percentage of missing values\n",
    "def find_percentage_missing(data):\n",
    "    # find columns with missing values\n",
    "    column_na=[features for features in data.columns if data[features].isnull().sum()>1]\n",
    "\n",
    "    result_list = []\n",
    "\n",
    "    for feature in column_na:\n",
    "        missing_percentage = np.round(data[feature].isnull().mean() * 100, 2)\n",
    "        result_list.append({'Column Name': feature, 'Missing Values Percentage': missing_percentage})\n",
    "\n",
    "    return pd.DataFrame(result_list)\n",
    "\n",
    "find_percentage_missing(df)"
   ]
  },
  {
   "cell_type": "code",
   "execution_count": null,
   "metadata": {},
   "outputs": [],
   "source": [
    "# drop columns with high % of null values (% >= 85)\n",
    "large_na_columns=[\"Circumference (cm)\", \n",
    "                  \"Depth (cm)\", \"Diameter (cm)\", \"Length (cm)\", \"Weight (kg)\", \"Seat Height (cm)\", \"Duration (sec.)\"]\n",
    "df = df.drop(columns=large_na_columns)"
   ]
  },
  {
   "cell_type": "code",
   "execution_count": null,
   "metadata": {},
   "outputs": [],
   "source": [
    "# fill title with \"No Title\" (% null values - < 1%)\n",
    "df['Title'].fillna(\"No Title\", inplace=True)\n",
    "\n",
    "# Fill Artists column with Artist Unavailable (% null values - < 1%)\n",
    "df['Artist'].fillna(\"Artist Unavailable\", inplace=True)\n",
    "\n",
    "# ID columns are very unique & cannot be randomly filled  (% null values - < 1%)\n",
    "df.dropna(subset=['ConstituentID'], inplace=True)\n",
    "\n",
    "\n",
    "\n",
    "\n",
    "# merge ArtistBio & Nationality\n",
    "#  ArtistBio & Nationality have same data to merge - Taking Nationality as majority\n",
    "df['merged_Nationality_ArtistBio'] = df['Nationality'].combine_first(df['ArtistBio'])\n",
    "\n",
    "# drop null rows\n",
    "df = df[pd.notna(df['merged_Nationality_ArtistBio'])]\n",
    "\n",
    "# discrad Nationality & ArtistBio after merge\n",
    "df = df.drop(columns=[\"Nationality\", \"ArtistBio\"])\n",
    "df.rename(columns={'merged_Nationality_ArtistBio': 'Nationality'}, inplace=True)\n",
    "\n",
    "# fill more empty ' ' spaces\n",
    "mode_nationality = df['Nationality'].mode().values[0]\n",
    "df['Nationality'] = df['Nationality'].replace('', mode_nationality)\n",
    "\n",
    "# clean multiple Nationality in one sample\n",
    "split_df = df['Nationality'].str.split(expand=True)\n",
    "df['Nationality'] = split_df[0]\n",
    "df['Nationality'].fillna(mode_nationality, inplace=True)\n",
    "\n",
    "\n",
    "\n",
    "# replace with mode of Medium\n",
    "mode_medium = df['Medium'].mode().values[0]\n",
    "df['Medium'] = df['Medium'].fillna(mode_medium)\n",
    "\n",
    "# replace height and width with most occuring (use mode incase of outliers)\n",
    "mode_height = df['Height (cm)'].mode().values[0]\n",
    "df['Height (cm)'] = df['Height (cm)'].fillna(mode_height)\n",
    "\n",
    "mode_width = df['Width (cm)'].mode().values[0]\n",
    "df['Width (cm)'] = df['Width (cm)'].fillna(mode_width)\n",
    "\n",
    "\n",
    "# replace url, thumbnail, creditline with not available (since URL must be unique)\n",
    "df['URL'].fillna(\"Unavailable\", inplace=True)\n",
    "df['ThumbnailURL'].fillna(\"Unavailable\", inplace=True)\n",
    "df['CreditLine'].fillna(\"Unavailable\", inplace=True)\n",
    "\n",
    "\n",
    "# DateAcquired column (% null values - = 4%)\n",
    "mode_date_acquired = df['DateAcquired'].mode().values[0]\n",
    "df['DateAcquired'] = df['DateAcquired'].fillna(mode_date_acquired)\n",
    "\n",
    "# Date ceated column \n",
    "df['Date'] = df['Date'].str.extract(r'(\\d{4})')\n",
    "mode_date = df['Date'].mode().values[0]\n",
    "df['Date'] = df['Date'].fillna(mode_date)\n",
    "df['Date'] = df['Date'].str.replace('-10-06', mode_date)\n",
    "\n",
    "\n",
    "# Classification column\n",
    "mode_classification = df['Classification'].mode().values[0]\n",
    "df['Classification'] = df['Classification'].fillna(mode_classification)\n",
    "\n",
    "# gender handling\n",
    "gender_mapping = {\n",
    "    'male': 'Male',\n",
    "    'female': 'Female',\n",
    "    'non-binary': 'Non-Binary',\n",
    "    '': \"undisclosed\" }\n",
    "\n",
    "# clean inconsistent gender naming \n",
    "df['Cleaned_Gender'] = df['Gender'].str.lower().map(gender_mapping)\n",
    "\n",
    "# fill null gender spaces \n",
    "df['Cleaned_Gender_nan'] = df['Cleaned_Gender'].fillna(\"undisclosed\")\n",
    "\n",
    "# drop after use \n",
    "df = df.drop(columns=[\"Gender\",\"Cleaned_Gender\"])\n",
    "df.rename(columns={'Cleaned_Gender_nan': 'Gender'}, inplace=True)\n"
   ]
  },
  {
   "cell_type": "code",
   "execution_count": null,
   "metadata": {},
   "outputs": [],
   "source": [
    "df.head()"
   ]
  },
  {
   "cell_type": "code",
   "execution_count": null,
   "metadata": {},
   "outputs": [],
   "source": [
    "# % of null BeginDate & EndDate in columns\n",
    "percentage_of_zeros_in_beginDate = (df['BeginDate'] == \"0\").mean() * 100 \n",
    "percentage_of_zeros_in_beginDate = (df['EndDate'] == \"0\").mean() * 100\n",
    "\n",
    "print(f\"% of null values in dates -> \\nBeginDate: {percentage_of_zeros_in_beginDate} \\nEndDate: {percentage_of_zeros_in_beginDate}\")"
   ]
  },
  {
   "cell_type": "code",
   "execution_count": null,
   "metadata": {},
   "outputs": [],
   "source": [
    "df[\"BeginDate\"].value_counts()"
   ]
  },
  {
   "cell_type": "code",
   "execution_count": null,
   "metadata": {},
   "outputs": [],
   "source": [
    "df[\"EndDate\"].value_counts()"
   ]
  },
  {
   "cell_type": "code",
   "execution_count": null,
   "metadata": {},
   "outputs": [],
   "source": [
    "# clean inconsistent BeginDate & EndDate formating\n",
    "# replace sample with date length greater than standard year length with 0\n",
    "df.loc[df['BeginDate'].str.len() > 4, 'BeginDate'] = \"0\"\n",
    "df[\"BeginDate\"].value_counts()"
   ]
  },
  {
   "cell_type": "code",
   "execution_count": null,
   "metadata": {},
   "outputs": [],
   "source": [
    "df.loc[df['EndDate'].str.len() > 4, 'EndDate'] = \"0\"\n",
    "df[\"EndDate\"].value_counts()"
   ]
  },
  {
   "cell_type": "code",
   "execution_count": null,
   "metadata": {},
   "outputs": [],
   "source": [
    "# % of null dates in columns\n",
    "percentage_of_zeros_in_beginDate = (df['BeginDate'] == \"0\").mean() * 100 \n",
    "percentage_of_zeros_in_beginDate = (df['EndDate'] == \"0\").mean() * 100\n",
    "\n",
    "print(f\"% of null values in dates -> \\nBeginDate: {percentage_of_zeros_in_beginDate} \\nEndDate: {percentage_of_zeros_in_beginDate}\")"
   ]
  },
  {
   "cell_type": "code",
   "execution_count": null,
   "metadata": {},
   "outputs": [],
   "source": [
    "# replace 0 values with mode of date column\n",
    "df_w_no_zero_beginDate = df[df[\"BeginDate\"] != \"0\"]\n",
    "mode_date_beginDate = df_w_no_zero_beginDate[\"BeginDate\"].mode().values[0]\n",
    "df['BeginDate'] = df['BeginDate'].replace('0', mode_date_beginDate)\n",
    "df['BeginDate'] = df['BeginDate'].replace(\"0 0\", mode_date_beginDate)\n"
   ]
  },
  {
   "cell_type": "code",
   "execution_count": null,
   "metadata": {},
   "outputs": [],
   "source": [
    "df_w_no_zero_beginDate = df[df[\"EndDate\"] != \"0\"]\n",
    "mode_date_beginDate = df_w_no_zero_beginDate[\"EndDate\"].mode().values[0]\n",
    "df['EndDate'] = df['EndDate'].replace('0', mode_date_beginDate)\n",
    "df['EndDate'] = df['EndDate'].replace(\"0 0\", mode_date_beginDate)"
   ]
  },
  {
   "cell_type": "code",
   "execution_count": null,
   "metadata": {},
   "outputs": [],
   "source": [
    "# infer data types\n",
    "df['BeginDate'] = pd.to_datetime(df['BeginDate'], format='%Y')\n",
    "df['EndDate'] = pd.to_datetime(df['EndDate'], format='%Y')\n",
    "df['Date'] = pd.to_datetime(df['Date'], format='%Y')"
   ]
  },
  {
   "cell_type": "code",
   "execution_count": null,
   "metadata": {},
   "outputs": [],
   "source": [
    "# complete date format\n",
    "df['DateAcquired'] = pd.to_datetime(df['DateAcquired'])"
   ]
  },
  {
   "cell_type": "code",
   "execution_count": null,
   "metadata": {},
   "outputs": [],
   "source": [
    "df.info()"
   ]
  },
  {
   "cell_type": "code",
   "execution_count": null,
   "metadata": {},
   "outputs": [],
   "source": [
    "df.to_parquet('./data/cleaned_data.parquet', index=False)"
   ]
  }
 ],
 "metadata": {
  "kernelspec": {
   "display_name": "Python 3 (ipykernel)",
   "language": "python",
   "name": "python3"
  },
  "language_info": {
   "codemirror_mode": {
    "name": "ipython",
    "version": 3
   },
   "file_extension": ".py",
   "mimetype": "text/x-python",
   "name": "python",
   "nbconvert_exporter": "python",
   "pygments_lexer": "ipython3",
   "version": "3.11.4"
  }
 },
 "nbformat": 4,
 "nbformat_minor": 2
}
